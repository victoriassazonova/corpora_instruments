{
  "nbformat": 4,
  "nbformat_minor": 0,
  "metadata": {
    "colab": {
      "name": "split_texts.ipynb",
      "provenance": [],
      "collapsed_sections": []
    },
    "kernelspec": {
      "name": "python3",
      "display_name": "Python 3"
    }
  },
  "cells": [
    {
      "cell_type": "code",
      "metadata": {
        "id": "RPjbFWV65p5E"
      },
      "source": [
        "with open('/content/evenki4.txt', 'r', encoding='utf-8') as f:\n",
        "    text = f.read()\n",
        "\n",
        "import re\n",
        "\n",
        "text = re.sub('[0-9][А-Я]*', '', text)\n",
        "text = re.sub('\\n', ' ', text)\n",
        "\n",
        "e = [s for s in re.findall(r'([А-Я][^\\.!?]*[\\.!?])', text) if s != '']\n",
        "\n"
      ],
      "execution_count": null,
      "outputs": []
    },
    {
      "cell_type": "code",
      "metadata": {
        "id": "CiXWtTiPUvNC"
      },
      "source": [
        "f = open(\"/content/evenk222.txt\", \"x\")"
      ],
      "execution_count": null,
      "outputs": []
    },
    {
      "cell_type": "code",
      "metadata": {
        "id": "eihpVwmCSzVT"
      },
      "source": [
        "for i in e:\n",
        "    f.write(i)\n",
        "    f.write('\\n')"
      ],
      "execution_count": null,
      "outputs": []
    },
    {
      "cell_type": "code",
      "metadata": {
        "id": "-WYz48jR6LuO"
      },
      "source": [
        "with open('/content/rus4.txt', 'r', encoding='utf-8') as g:\n",
        "    textrus = g.read()\n",
        "\n",
        "#textrus = re.sub(r'([-]{1}\\s{1}[0-9]{1,3})', '', textrus)\n",
        "textrus = re.sub('\\n', ' ', textrus)\n",
        "\n",
        "r = [s for s in re.findall(r'([А-Я][^\\.!?]*[\\.!?])', textrus) if s != '']"
      ],
      "execution_count": null,
      "outputs": []
    },
    {
      "cell_type": "code",
      "metadata": {
        "id": "jJ6q9V5o7Aza"
      },
      "source": [
        "f = open(\"/content/rus444.txt\", \"x\")"
      ],
      "execution_count": null,
      "outputs": []
    },
    {
      "cell_type": "code",
      "metadata": {
        "id": "TgLg2djS6-wd"
      },
      "source": [
        "for i in r:\n",
        "    f.write(i)\n",
        "    f.write('\\n')"
      ],
      "execution_count": null,
      "outputs": []
    }
  ]
}